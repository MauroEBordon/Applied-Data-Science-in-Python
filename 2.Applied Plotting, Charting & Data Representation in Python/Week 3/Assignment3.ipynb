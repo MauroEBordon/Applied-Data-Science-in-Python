{
 "cells": [
  {
   "cell_type": "markdown",
   "metadata": {},
   "source": [
    "# Assignment 3 - Building a Custom Visualization\n",
    "\n",
    "---\n",
    "\n",
    "### other plots in this notebook:\n",
    "* **plot_histogram()**\n",
    "* **simple_plot()**\n",
    "* **animated_plot()**\n",
    "\n",
    "---\n",
    "\n",
    "*Note: The data given for this assignment is not the same as the data used in the article and as a result the visualizations may look a little different.*"
   ]
  },
  {
   "cell_type": "code",
   "execution_count": 6,
   "metadata": {
    "scrolled": true
   },
   "outputs": [
    {
     "data": {
      "text/html": [
       "<div>\n",
       "<style scoped>\n",
       "    .dataframe tbody tr th:only-of-type {\n",
       "        vertical-align: middle;\n",
       "    }\n",
       "\n",
       "    .dataframe tbody tr th {\n",
       "        vertical-align: top;\n",
       "    }\n",
       "\n",
       "    .dataframe thead th {\n",
       "        text-align: right;\n",
       "    }\n",
       "</style>\n",
       "<table border=\"1\" class=\"dataframe\">\n",
       "  <thead>\n",
       "    <tr style=\"text-align: right;\">\n",
       "      <th></th>\n",
       "      <th>1992</th>\n",
       "      <th>1993</th>\n",
       "      <th>1994</th>\n",
       "      <th>1995</th>\n",
       "    </tr>\n",
       "  </thead>\n",
       "  <tbody>\n",
       "    <tr>\n",
       "      <th>count</th>\n",
       "      <td>3650.000000</td>\n",
       "      <td>3650.000000</td>\n",
       "      <td>3650.000000</td>\n",
       "      <td>3650.000000</td>\n",
       "    </tr>\n",
       "    <tr>\n",
       "      <th>mean</th>\n",
       "      <td>33312.107476</td>\n",
       "      <td>41861.859541</td>\n",
       "      <td>39493.304941</td>\n",
       "      <td>47743.550969</td>\n",
       "    </tr>\n",
       "    <tr>\n",
       "      <th>std</th>\n",
       "      <td>3320.866311</td>\n",
       "      <td>1628.701180</td>\n",
       "      <td>2323.419534</td>\n",
       "      <td>1155.026400</td>\n",
       "    </tr>\n",
       "    <tr>\n",
       "      <th>min</th>\n",
       "      <td>-717071.175466</td>\n",
       "      <td>-321586.023683</td>\n",
       "      <td>-450827.613097</td>\n",
       "      <td>-189865.963265</td>\n",
       "    </tr>\n",
       "    <tr>\n",
       "      <th>25%</th>\n",
       "      <td>-102740.398364</td>\n",
       "      <td>-26628.302213</td>\n",
       "      <td>-57436.397393</td>\n",
       "      <td>1774.555612</td>\n",
       "    </tr>\n",
       "    <tr>\n",
       "      <th>50%</th>\n",
       "      <td>29674.931050</td>\n",
       "      <td>43001.976658</td>\n",
       "      <td>41396.781369</td>\n",
       "      <td>49404.322978</td>\n",
       "    </tr>\n",
       "    <tr>\n",
       "      <th>75%</th>\n",
       "      <td>167441.838695</td>\n",
       "      <td>108296.577923</td>\n",
       "      <td>137261.713785</td>\n",
       "      <td>94164.333867</td>\n",
       "    </tr>\n",
       "    <tr>\n",
       "      <th>max</th>\n",
       "      <td>817505.608159</td>\n",
       "      <td>395586.505068</td>\n",
       "      <td>490091.665037</td>\n",
       "      <td>320826.888044</td>\n",
       "    </tr>\n",
       "  </tbody>\n",
       "</table>\n",
       "</div>"
      ],
      "text/plain": [
       "                1992           1993           1994           1995\n",
       "count    3650.000000    3650.000000    3650.000000    3650.000000\n",
       "mean    33312.107476   41861.859541   39493.304941   47743.550969\n",
       "std      3320.866311    1628.701180    2323.419534    1155.026400\n",
       "min   -717071.175466 -321586.023683 -450827.613097 -189865.963265\n",
       "25%   -102740.398364  -26628.302213  -57436.397393    1774.555612\n",
       "50%     29674.931050   43001.976658   41396.781369   49404.322978\n",
       "75%    167441.838695  108296.577923  137261.713785   94164.333867\n",
       "max    817505.608159  395586.505068  490091.665037  320826.888044"
      ]
     },
     "execution_count": 6,
     "metadata": {},
     "output_type": "execute_result"
    }
   ],
   "source": [
    "import matplotlib as mpl\n",
    "import matplotlib.pyplot as plt\n",
    "import matplotlib.gridspec as gridspec\n",
    "import matplotlib.animation as animation\n",
    "import matplotlib.ticker as ticker\n",
    "from matplotlib.cm import ScalarMappable\n",
    "\n",
    "import scipy.stats as st\n",
    "import numpy as np\n",
    "import pandas as pd\n",
    "\n",
    "np.random.seed(12345)\n",
    "\n",
    "df = pd.DataFrame([np.random.normal(32000,200000,3650), \n",
    "                   np.random.normal(43000,100000,3650), \n",
    "                   np.random.normal(43500,140000,3650), \n",
    "                   np.random.normal(48000,70000,3650)], \n",
    "                  index=[\"1992\",\"1993\",\"1994\",\"1995\"])\n",
    "\n",
    "summary = df.T.loc[df.T.index].describe()\n",
    "\n",
    "summary.loc[\"std\"] = summary.loc[\"std\"]/np.sqrt(summary.loc[\"count\"]) \n",
    "summary"
   ]
  },
  {
   "cell_type": "code",
   "execution_count": 2,
   "metadata": {},
   "outputs": [],
   "source": [
    "def plot_histograms():\n",
    "    \n",
    "    fig = plt.figure(figsize=(8,8))\n",
    "    ax = plt.subplot()\n",
    "    plt.boxplot([df.T[\"1992\"], df.T[\"1993\"], df.T[\"1994\"], df.T[\"1995\"]], whis=1.5)\n",
    "    plt.show()\n",
    "    \n",
    "#plot_histograms()"
   ]
  },
  {
   "cell_type": "code",
   "execution_count": 126,
   "metadata": {},
   "outputs": [
    {
     "data": {
      "image/png": "[encoded data removed]",
      "text/plain": [
       "<Figure size 936x720 with 2 Axes>"
      ]
     },
     "metadata": {
      "needs_background": "light"
     },
     "output_type": "display_data"
    },
    {
     "data": {
      "text/plain": [
       "array([[1.40028008e-01, 7.53857868e-06, 1.22888291e-01, 1.00000000e+00],\n",
       "       [9.35152289e-01, 6.68796587e-01, 0.00000000e+00, 1.00000000e+00],\n",
       "       [6.41688948e-01, 6.98147771e-02, 5.26432163e-01, 1.00000000e+00],\n",
       "       [1.00000000e+00, 1.00000000e+00, 0.00000000e+00, 1.00000000e+00]])"
      ]
     },
     "execution_count": 126,
     "metadata": {},
     "output_type": "execute_result"
    }
   ],
   "source": [
    "def simple_plot(yinput):\n",
    "    \n",
    "    fig = plt.figure(figsize=(13,10))\n",
    "    ax = plt.subplot()\n",
    "    \n",
    "    #constants\n",
    "    width = 1\n",
    "    xlabel = [str(i) for i in range(1992,1996)]\n",
    "    \n",
    "    #format the data\n",
    "    x = range(1,5)\n",
    "    y = [summary[item][\"mean\"] for item in xlabel]\n",
    "    yerr = [2*summary[item][\"std\"] for item in xlabel]\n",
    "    summary.loc[\"z\"] = (yinput-summary.loc[\"mean\"])/ summary.loc[\"std\"]\n",
    "    sum2 = summary.T\n",
    "    sum2['prob'] = sum2['z'].apply(lambda x: 1-st.norm.cdf(x))\n",
    "\n",
    "    #Colormap\n",
    "    my_cmap = plt.cm.get_cmap('gnuplot')\n",
    "    bar_cols = my_cmap(sum2[\"prob\"])\n",
    "    sm = ScalarMappable(cmap=my_cmap )\n",
    "    sm.set_array([])\n",
    "    \n",
    "    #Plotting\n",
    "    plot = ax.bar(x,y, yerr=yerr, color=bar_cols, width=1, label=xlabel, capsize=15, alpha=0.7)\n",
    "    line = ax.axhline(yinput, lw=3, color=\"red\")\n",
    "    cbar = plt.colorbar(sm, alpha=0.7)\n",
    "        \n",
    "    #adjusting the axis\n",
    "    ax.set_xlim([0.4,4.5])\n",
    "    ax.set_xticks(x)\n",
    "    ax.set_xticklabels(xlabel)\n",
    "    ax.tick_params(which=\"both\",bottom='off', labelleft='off', labelbottom='on')\n",
    "    ax.spines[\"top\"].set_visible(False)\n",
    "    ax.spines[\"right\"].set_visible(False)\n",
    "    \n",
    "    #Probability Table\n",
    "    probs = [[i] for i in round(sum2[\"prob\"], 3)]\n",
    "    p_table = ax.table(cellText=probs, colLabels=[\"Probability\"],\n",
    "                         rowLabels=xlabel, bbox=[1.3, .7, .12, .15],\n",
    "                         rowColours=bar_cols, colColours=[\"Pink\"],\n",
    "                         cellColours=[[i] for i in bar_cols])\n",
    "    for cell in p_table._cells:\n",
    "        p_table._cells[cell].set_alpha(.5)      \n",
    "        \n",
    "    #User Input Table\n",
    "    input_t = ax.table(cellText=[[yinput]], bbox=[1.3, .6, .12, .05],\n",
    "                       rowLabels=[\"Input\"], rowColours=[\"red\"])\n",
    "    \n",
    "    plt.show()\n",
    "    return bar_cols\n",
    "    \n",
    "simple_plot(40000)"
   ]
  },
  {
   "cell_type": "code",
   "execution_count": null,
   "metadata": {},
   "outputs": [],
   "source": []
  },
  {
   "cell_type": "code",
   "execution_count": null,
   "metadata": {},
   "outputs": [],
   "source": []
  }
 ],
 "metadata": {
  "kernelspec": {
   "display_name": "Python 3",
   "language": "python",
   "name": "python3"
  },
  "language_info": {
   "codemirror_mode": {
    "name": "ipython",
    "version": 3
   },
   "file_extension": ".py",
   "mimetype": "text/x-python",
   "name": "python",
   "nbconvert_exporter": "python",
   "pygments_lexer": "ipython3",
   "version": "3.8.2"
  }
 },
 "nbformat": 4,
 "nbformat_minor": 2
}
